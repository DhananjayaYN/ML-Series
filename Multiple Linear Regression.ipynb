{
 "cells": [
  {
   "cell_type": "markdown",
   "id": "b38ec900",
   "metadata": {},
   "source": [
    "# Multiple Linear Regression"
   ]
  },
  {
   "cell_type": "markdown",
   "id": "c90ddb22",
   "metadata": {},
   "source": [
    "#### Task : Predict petrol consumption of a country given various factors such as tax,distance of highways and population with driving license\n",
    "#### Input : Tax,distance of highways,average income and population with driving license\n",
    "#### Output : Expected petrol consumption"
   ]
  },
  {
   "cell_type": "code",
   "execution_count": 1,
   "id": "5c383b6e",
   "metadata": {},
   "outputs": [],
   "source": [
    "import pandas as pd\n",
    "import numpy as np"
   ]
  },
  {
   "cell_type": "code",
   "execution_count": 2,
   "id": "36ddfea6",
   "metadata": {},
   "outputs": [],
   "source": [
    "data=pd.read_csv('w1_petrol_consumption-220925-152435.csv')"
   ]
  },
  {
   "cell_type": "code",
   "execution_count": 3,
   "id": "619f09ab",
   "metadata": {},
   "outputs": [
    {
     "data": {
      "text/html": [
       "<div>\n",
       "<style scoped>\n",
       "    .dataframe tbody tr th:only-of-type {\n",
       "        vertical-align: middle;\n",
       "    }\n",
       "\n",
       "    .dataframe tbody tr th {\n",
       "        vertical-align: top;\n",
       "    }\n",
       "\n",
       "    .dataframe thead th {\n",
       "        text-align: right;\n",
       "    }\n",
       "</style>\n",
       "<table border=\"1\" class=\"dataframe\">\n",
       "  <thead>\n",
       "    <tr style=\"text-align: right;\">\n",
       "      <th></th>\n",
       "      <th>Petrol_tax</th>\n",
       "      <th>Average_income</th>\n",
       "      <th>Paved_Highways</th>\n",
       "      <th>Population_Driver_licence(%)</th>\n",
       "      <th>Petrol_Consumption</th>\n",
       "    </tr>\n",
       "  </thead>\n",
       "  <tbody>\n",
       "    <tr>\n",
       "      <th>0</th>\n",
       "      <td>9.0</td>\n",
       "      <td>3571</td>\n",
       "      <td>1976</td>\n",
       "      <td>0.525</td>\n",
       "      <td>541</td>\n",
       "    </tr>\n",
       "    <tr>\n",
       "      <th>1</th>\n",
       "      <td>9.0</td>\n",
       "      <td>4092</td>\n",
       "      <td>1250</td>\n",
       "      <td>0.572</td>\n",
       "      <td>524</td>\n",
       "    </tr>\n",
       "    <tr>\n",
       "      <th>2</th>\n",
       "      <td>9.0</td>\n",
       "      <td>3865</td>\n",
       "      <td>1586</td>\n",
       "      <td>0.580</td>\n",
       "      <td>561</td>\n",
       "    </tr>\n",
       "    <tr>\n",
       "      <th>3</th>\n",
       "      <td>7.5</td>\n",
       "      <td>4870</td>\n",
       "      <td>2351</td>\n",
       "      <td>0.529</td>\n",
       "      <td>414</td>\n",
       "    </tr>\n",
       "    <tr>\n",
       "      <th>4</th>\n",
       "      <td>8.0</td>\n",
       "      <td>4399</td>\n",
       "      <td>431</td>\n",
       "      <td>0.544</td>\n",
       "      <td>410</td>\n",
       "    </tr>\n",
       "  </tbody>\n",
       "</table>\n",
       "</div>"
      ],
      "text/plain": [
       "   Petrol_tax  Average_income  Paved_Highways  Population_Driver_licence(%)  \\\n",
       "0         9.0            3571            1976                         0.525   \n",
       "1         9.0            4092            1250                         0.572   \n",
       "2         9.0            3865            1586                         0.580   \n",
       "3         7.5            4870            2351                         0.529   \n",
       "4         8.0            4399             431                         0.544   \n",
       "\n",
       "   Petrol_Consumption  \n",
       "0                 541  \n",
       "1                 524  \n",
       "2                 561  \n",
       "3                 414  \n",
       "4                 410  "
      ]
     },
     "execution_count": 3,
     "metadata": {},
     "output_type": "execute_result"
    }
   ],
   "source": [
    "data.head()"
   ]
  },
  {
   "cell_type": "code",
   "execution_count": 4,
   "id": "273420bd",
   "metadata": {},
   "outputs": [
    {
     "data": {
      "text/plain": [
       "(48, 5)"
      ]
     },
     "execution_count": 4,
     "metadata": {},
     "output_type": "execute_result"
    }
   ],
   "source": [
    "data.shape"
   ]
  },
  {
   "cell_type": "code",
   "execution_count": 5,
   "id": "c882a6be",
   "metadata": {},
   "outputs": [
    {
     "data": {
      "text/html": [
       "<div>\n",
       "<style scoped>\n",
       "    .dataframe tbody tr th:only-of-type {\n",
       "        vertical-align: middle;\n",
       "    }\n",
       "\n",
       "    .dataframe tbody tr th {\n",
       "        vertical-align: top;\n",
       "    }\n",
       "\n",
       "    .dataframe thead th {\n",
       "        text-align: right;\n",
       "    }\n",
       "</style>\n",
       "<table border=\"1\" class=\"dataframe\">\n",
       "  <thead>\n",
       "    <tr style=\"text-align: right;\">\n",
       "      <th></th>\n",
       "      <th>count</th>\n",
       "      <th>mean</th>\n",
       "      <th>std</th>\n",
       "      <th>min</th>\n",
       "      <th>25%</th>\n",
       "      <th>50%</th>\n",
       "      <th>75%</th>\n",
       "      <th>max</th>\n",
       "    </tr>\n",
       "  </thead>\n",
       "  <tbody>\n",
       "    <tr>\n",
       "      <th>Petrol_tax</th>\n",
       "      <td>48.0</td>\n",
       "      <td>7.67</td>\n",
       "      <td>0.95</td>\n",
       "      <td>5.00</td>\n",
       "      <td>7.00</td>\n",
       "      <td>7.50</td>\n",
       "      <td>8.12</td>\n",
       "      <td>10.00</td>\n",
       "    </tr>\n",
       "    <tr>\n",
       "      <th>Average_income</th>\n",
       "      <td>48.0</td>\n",
       "      <td>4241.83</td>\n",
       "      <td>573.62</td>\n",
       "      <td>3063.00</td>\n",
       "      <td>3739.00</td>\n",
       "      <td>4298.00</td>\n",
       "      <td>4578.75</td>\n",
       "      <td>5342.00</td>\n",
       "    </tr>\n",
       "    <tr>\n",
       "      <th>Paved_Highways</th>\n",
       "      <td>48.0</td>\n",
       "      <td>5565.42</td>\n",
       "      <td>3491.51</td>\n",
       "      <td>431.00</td>\n",
       "      <td>3110.25</td>\n",
       "      <td>4735.50</td>\n",
       "      <td>7156.00</td>\n",
       "      <td>17782.00</td>\n",
       "    </tr>\n",
       "    <tr>\n",
       "      <th>Population_Driver_licence(%)</th>\n",
       "      <td>48.0</td>\n",
       "      <td>0.57</td>\n",
       "      <td>0.06</td>\n",
       "      <td>0.45</td>\n",
       "      <td>0.53</td>\n",
       "      <td>0.56</td>\n",
       "      <td>0.60</td>\n",
       "      <td>0.72</td>\n",
       "    </tr>\n",
       "    <tr>\n",
       "      <th>Petrol_Consumption</th>\n",
       "      <td>48.0</td>\n",
       "      <td>576.77</td>\n",
       "      <td>111.89</td>\n",
       "      <td>344.00</td>\n",
       "      <td>509.50</td>\n",
       "      <td>568.50</td>\n",
       "      <td>632.75</td>\n",
       "      <td>968.00</td>\n",
       "    </tr>\n",
       "  </tbody>\n",
       "</table>\n",
       "</div>"
      ],
      "text/plain": [
       "                              count     mean      std      min      25%  \\\n",
       "Petrol_tax                     48.0     7.67     0.95     5.00     7.00   \n",
       "Average_income                 48.0  4241.83   573.62  3063.00  3739.00   \n",
       "Paved_Highways                 48.0  5565.42  3491.51   431.00  3110.25   \n",
       "Population_Driver_licence(%)   48.0     0.57     0.06     0.45     0.53   \n",
       "Petrol_Consumption             48.0   576.77   111.89   344.00   509.50   \n",
       "\n",
       "                                  50%      75%       max  \n",
       "Petrol_tax                       7.50     8.12     10.00  \n",
       "Average_income                4298.00  4578.75   5342.00  \n",
       "Paved_Highways                4735.50  7156.00  17782.00  \n",
       "Population_Driver_licence(%)     0.56     0.60      0.72  \n",
       "Petrol_Consumption             568.50   632.75    968.00  "
      ]
     },
     "execution_count": 5,
     "metadata": {},
     "output_type": "execute_result"
    }
   ],
   "source": [
    "data.describe().round(2).T"
   ]
  },
  {
   "cell_type": "code",
   "execution_count": 6,
   "id": "6cb5df79",
   "metadata": {},
   "outputs": [
    {
     "data": {
      "image/png": "[encoded data removed]",
      "text/plain": [
       "<Figure size 432x288 with 1 Axes>"
      ]
     },
     "metadata": {
      "needs_background": "light"
     },
     "output_type": "display_data"
    }
   ],
   "source": [
    "from matplotlib import pyplot as plt\n",
    "plt.figure(figsize=(6,4))\n",
    "plt.plot(data['Petrol_tax'],data['Petrol_Consumption'],'o')\n",
    "plt.title('Petrol tax vs Petrol Consumption')\n",
    "plt.xlabel('Petrol_tax')\n",
    "plt.ylabel('Petrol_Consumption')\n",
    "\n",
    "plt.show()"
   ]
  },
  {
   "cell_type": "code",
   "execution_count": 7,
   "id": "1547a8f5",
   "metadata": {},
   "outputs": [
    {
     "data": {
      "image/png": "[encoded data removed]",
      "text/plain": [
       "<Figure size 576x288 with 1 Axes>"
      ]
     },
     "metadata": {
      "needs_background": "light"
     },
     "output_type": "display_data"
    }
   ],
   "source": [
    "plt.figure(figsize=(8,4))\n",
    "plt.plot(data['Average_income'],data['Petrol_Consumption'],'o')\n",
    "plt.title('Average income vs Petrol Consumption')\n",
    "plt.xlabel('Average_income')\n",
    "plt.ylabel('Petrol_Consumption')\n",
    "\n",
    "plt.show()"
   ]
  },
  {
   "cell_type": "markdown",
   "id": "7dde549e",
   "metadata": {},
   "source": [
    "### Train the model"
   ]
  },
  {
   "cell_type": "code",
   "execution_count": 8,
   "id": "f09df3d3",
   "metadata": {},
   "outputs": [],
   "source": [
    "y=data['Petrol_Consumption']\n",
    "x=data[['Petrol_tax','Average_income','Paved_Highways','Population_Driver_licence(%)']]"
   ]
  },
  {
   "cell_type": "code",
   "execution_count": 9,
   "id": "69c8cd5d",
   "metadata": {},
   "outputs": [],
   "source": [
    "from sklearn.model_selection import train_test_split\n"
   ]
  },
  {
   "cell_type": "code",
   "execution_count": 10,
   "id": "a8707771",
   "metadata": {},
   "outputs": [],
   "source": [
    "x_train,x_test,y_train,y_test=train_test_split(x,y,test_size=0.2,random_state=2)"
   ]
  },
  {
   "cell_type": "code",
   "execution_count": 11,
   "id": "dac3fbb2",
   "metadata": {},
   "outputs": [
    {
     "data": {
      "text/plain": [
       "LinearRegression()"
      ]
     },
     "execution_count": 11,
     "metadata": {},
     "output_type": "execute_result"
    }
   ],
   "source": [
    "from sklearn.linear_model import LinearRegression\n",
    "\n",
    "regressor=LinearRegression()\n",
    "regressor.fit(x_train,y_train)"
   ]
  },
  {
   "cell_type": "code",
   "execution_count": 12,
   "id": "40eabed3",
   "metadata": {},
   "outputs": [
    {
     "data": {
      "text/plain": [
       "396.58908680328693"
      ]
     },
     "execution_count": 12,
     "metadata": {},
     "output_type": "execute_result"
    }
   ],
   "source": [
    "regressor.intercept_ "
   ]
  },
  {
   "cell_type": "code",
   "execution_count": 13,
   "id": "25ba25e9",
   "metadata": {},
   "outputs": [
    {
     "data": {
      "text/plain": [
       "array([-4.41461642e+01, -6.57785154e-02, -2.43348926e-03,  1.43161142e+03])"
      ]
     },
     "execution_count": 13,
     "metadata": {},
     "output_type": "execute_result"
    }
   ],
   "source": [
    "regressor.coef_"
   ]
  },
  {
   "cell_type": "markdown",
   "id": "23c5efe1",
   "metadata": {},
   "source": [
    "### Make Predictions"
   ]
  },
  {
   "cell_type": "code",
   "execution_count": 14,
   "id": "91afe749",
   "metadata": {},
   "outputs": [],
   "source": [
    "y_pred=regressor.predict(x_test)"
   ]
  },
  {
   "cell_type": "code",
   "execution_count": 15,
   "id": "2317dd2f",
   "metadata": {},
   "outputs": [
    {
     "name": "stdout",
     "output_type": "stream",
     "text": [
      "    Actual   Predicted\n",
      "23     547  447.928464\n",
      "12     525  575.591704\n",
      "42     632  659.134274\n",
      "16     603  609.079108\n",
      "35     644  737.437039\n",
      "43     591  562.130158\n",
      "46     610  686.939414\n",
      "13     508  575.051588\n",
      "14     566  653.178314\n",
      "0      541  511.165952\n"
     ]
    }
   ],
   "source": [
    "results=pd.DataFrame({'Actual':y_test,'Predicted':y_pred})\n",
    "print(results)"
   ]
  },
  {
   "cell_type": "markdown",
   "id": "0d7a5ee5",
   "metadata": {},
   "source": [
    "### Evaluating the Model"
   ]
  },
  {
   "cell_type": "code",
   "execution_count": 20,
   "id": "a9f6013e",
   "metadata": {},
   "outputs": [
    {
     "name": "stdout",
     "output_type": "stream",
     "text": [
      "Mean Absolute error: 56.62\n",
      "Mean Squared error: 4161.76\n",
      "Root Mean Squared error: 64.51\n"
     ]
    }
   ],
   "source": [
    "from sklearn.metrics import mean_absolute_error, mean_squared_error\n",
    "MAE=mean_absolute_error(y_test,y_pred)\n",
    "MSE=mean_squared_error(y_test,y_pred)\n",
    "RMSE=np.sqrt(MSE)\n",
    "\n",
    "print(f'Mean Absolute error: {MAE:.2f}')\n",
    "print(f'Mean Squared error: {MSE:.2f}')\n",
    "print(f'Root Mean Squared error: {RMSE:.2f}')"
   ]
  },
  {
   "cell_type": "code",
   "execution_count": 21,
   "id": "d5eb879f",
   "metadata": {},
   "outputs": [
    {
     "data": {
      "text/plain": [
       "-1.161267326962541"
      ]
     },
     "execution_count": 21,
     "metadata": {},
     "output_type": "execute_result"
    }
   ],
   "source": [
    "regressor.score(x_test,y_test)"
   ]
  },
  {
   "cell_type": "code",
   "execution_count": 22,
   "id": "d128a1d5",
   "metadata": {},
   "outputs": [
    {
     "data": {
      "text/plain": [
       "0.7275188986304032"
      ]
     },
     "execution_count": 22,
     "metadata": {},
     "output_type": "execute_result"
    }
   ],
   "source": [
    "regressor.score(x_train,y_train)"
   ]
  },
  {
   "cell_type": "markdown",
   "id": "ae85af7a",
   "metadata": {},
   "source": [
    "#### Possible improvement:\n",
    "     Increase size of the data\n",
    "     Try non-linear relation\n",
    "     May require more feature"
   ]
  },
  {
   "cell_type": "code",
   "execution_count": null,
   "id": "eb39cc79",
   "metadata": {},
   "outputs": [],
   "source": []
  }
 ],
 "metadata": {
  "kernelspec": {
   "display_name": "Python 3 (ipykernel)",
   "language": "python",
   "name": "python3"
  },
  "language_info": {
   "codemirror_mode": {
    "name": "ipython",
    "version": 3
   },
   "file_extension": ".py",
   "mimetype": "text/x-python",
   "name": "python",
   "nbconvert_exporter": "python",
   "pygments_lexer": "ipython3",
   "version": "3.9.12"
  }
 },
 "nbformat": 4,
 "nbformat_minor": 5
}
