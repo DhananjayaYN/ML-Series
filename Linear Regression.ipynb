{
 "cells": [
  {
   "cell_type": "markdown",
   "id": "2834de78",
   "metadata": {},
   "source": [
    "# Simple Linear Regresession\n"
   ]
  },
  {
   "cell_type": "markdown",
   "id": "2796903c",
   "metadata": {},
   "source": [
    "### Task : Predict student score given the number of hours spent by the student for studies\n",
    "### Input : Hours studies\n",
    "### Output : Score"
   ]
  },
  {
   "cell_type": "code",
   "execution_count": 1,
   "id": "a98f8be8",
   "metadata": {},
   "outputs": [],
   "source": [
    "import pandas as pd\n",
    "import numpy as np"
   ]
  },
  {
   "cell_type": "code",
   "execution_count": 2,
   "id": "f7571724",
   "metadata": {},
   "outputs": [],
   "source": [
    "data=pd.read_csv('w1_student_scores-220925-152435.csv')"
   ]
  },
  {
   "cell_type": "code",
   "execution_count": 3,
   "id": "afffe51a",
   "metadata": {},
   "outputs": [
    {
     "data": {
      "text/html": [
       "<div>\n",
       "<style scoped>\n",
       "    .dataframe tbody tr th:only-of-type {\n",
       "        vertical-align: middle;\n",
       "    }\n",
       "\n",
       "    .dataframe tbody tr th {\n",
       "        vertical-align: top;\n",
       "    }\n",
       "\n",
       "    .dataframe thead th {\n",
       "        text-align: right;\n",
       "    }\n",
       "</style>\n",
       "<table border=\"1\" class=\"dataframe\">\n",
       "  <thead>\n",
       "    <tr style=\"text-align: right;\">\n",
       "      <th></th>\n",
       "      <th>Hours</th>\n",
       "      <th>Scores</th>\n",
       "    </tr>\n",
       "  </thead>\n",
       "  <tbody>\n",
       "    <tr>\n",
       "      <th>0</th>\n",
       "      <td>2.5</td>\n",
       "      <td>21</td>\n",
       "    </tr>\n",
       "    <tr>\n",
       "      <th>1</th>\n",
       "      <td>5.1</td>\n",
       "      <td>47</td>\n",
       "    </tr>\n",
       "    <tr>\n",
       "      <th>2</th>\n",
       "      <td>3.2</td>\n",
       "      <td>27</td>\n",
       "    </tr>\n",
       "    <tr>\n",
       "      <th>3</th>\n",
       "      <td>8.5</td>\n",
       "      <td>75</td>\n",
       "    </tr>\n",
       "    <tr>\n",
       "      <th>4</th>\n",
       "      <td>3.5</td>\n",
       "      <td>30</td>\n",
       "    </tr>\n",
       "    <tr>\n",
       "      <th>5</th>\n",
       "      <td>1.5</td>\n",
       "      <td>20</td>\n",
       "    </tr>\n",
       "  </tbody>\n",
       "</table>\n",
       "</div>"
      ],
      "text/plain": [
       "   Hours  Scores\n",
       "0    2.5      21\n",
       "1    5.1      47\n",
       "2    3.2      27\n",
       "3    8.5      75\n",
       "4    3.5      30\n",
       "5    1.5      20"
      ]
     },
     "execution_count": 3,
     "metadata": {},
     "output_type": "execute_result"
    }
   ],
   "source": [
    "data.head(6)"
   ]
  },
  {
   "cell_type": "code",
   "execution_count": 4,
   "id": "a40e54d5",
   "metadata": {},
   "outputs": [
    {
     "data": {
      "text/plain": [
       "(25, 2)"
      ]
     },
     "execution_count": 4,
     "metadata": {},
     "output_type": "execute_result"
    }
   ],
   "source": [
    "data.shape"
   ]
  },
  {
   "cell_type": "code",
   "execution_count": 7,
   "id": "a58e00ce",
   "metadata": {},
   "outputs": [
    {
     "data": {
      "image/png": "[encoded data removed]",
      "text/plain": [
       "<Figure size 432x288 with 1 Axes>"
      ]
     },
     "metadata": {
      "needs_background": "light"
     },
     "output_type": "display_data"
    }
   ],
   "source": [
    "from matplotlib import pyplot as plt\n",
    "plt.figure(figsize=(6,4))\n",
    "plt.plot(data['Hours'],data['Scores'],'ro')\n",
    "plt.title('Students Score vs Hours of studies')\n",
    "plt.xlabel('Hours')\n",
    "plt.ylabel('Scores')\n",
    "\n",
    "plt.show()"
   ]
  },
  {
   "cell_type": "markdown",
   "id": "ba27103c",
   "metadata": {},
   "source": [
    "## Find the Coeffients"
   ]
  },
  {
   "cell_type": "code",
   "execution_count": 8,
   "id": "5e283b71",
   "metadata": {},
   "outputs": [],
   "source": [
    "xmean=np.mean(data['Hours'])\n",
    "ymean=np.mean(data['Scores'])"
   ]
  },
  {
   "cell_type": "markdown",
   "id": "a8d9ffda",
   "metadata": {},
   "source": [
    "#### Calculate the terms needed for the numotor and denuminator of beta"
   ]
  },
  {
   "cell_type": "code",
   "execution_count": 9,
   "id": "0b70aae1",
   "metadata": {},
   "outputs": [],
   "source": [
    "data['xycov']=(data['Hours']-xmean)*(data['Scores']-ymean)\n",
    "data['xvar']=(data['Hours']-xmean)**2"
   ]
  },
  {
   "cell_type": "markdown",
   "id": "7ed439c7",
   "metadata": {},
   "source": [
    "### Calculate the Coeffients"
   ]
  },
  {
   "cell_type": "code",
   "execution_count": 13,
   "id": "1738be1c",
   "metadata": {},
   "outputs": [
    {
     "name": "stdout",
     "output_type": "stream",
     "text": [
      "slope=9.775803390787473\n",
      "intercept=2.4836734053731817\n"
     ]
    }
   ],
   "source": [
    "slope= data['xycov'].sum()/data['xvar'].sum()\n",
    "intercept=ymean-(slope*xmean)\n",
    "print(f'slope={slope}')\n",
    "print(f'intercept={intercept}')"
   ]
  },
  {
   "cell_type": "markdown",
   "id": "c731423f",
   "metadata": {},
   "source": [
    "## Making Prediction"
   ]
  },
  {
   "cell_type": "code",
   "execution_count": 14,
   "id": "c876ab15",
   "metadata": {},
   "outputs": [
    {
     "data": {
      "text/plain": [
       "70.9142971408855"
      ]
     },
     "execution_count": 14,
     "metadata": {},
     "output_type": "execute_result"
    }
   ],
   "source": [
    "intercept+slope*7"
   ]
  },
  {
   "cell_type": "code",
   "execution_count": 16,
   "id": "967c7a56",
   "metadata": {},
   "outputs": [],
   "source": [
    "Scores_predicted=intercept+slope*data['Hours']"
   ]
  },
  {
   "cell_type": "markdown",
   "id": "72f849c7",
   "metadata": {},
   "source": [
    "#### Compute the score of a student who studied for 7 hours"
   ]
  },
  {
   "cell_type": "code",
   "execution_count": 18,
   "id": "26912d7f",
   "metadata": {},
   "outputs": [
    {
     "data": {
      "image/png": "[encoded data removed]",
      "text/plain": [
       "<Figure size 432x288 with 1 Axes>"
      ]
     },
     "metadata": {
      "needs_background": "light"
     },
     "output_type": "display_data"
    }
   ],
   "source": [
    "plt.figure(figsize=(6,4))\n",
    "plt.plot(data['Hours'],Scores_predicted)\n",
    "plt.plot(data['Hours'],data['Scores'],'ro')\n",
    "plt.title('Actual vs Predicted')\n",
    "plt.xlabel('Hours')\n",
    "plt.ylabel('Scores')\n",
    "\n",
    "plt.show()"
   ]
  },
  {
   "cell_type": "code",
   "execution_count": null,
   "id": "1e9d22a2",
   "metadata": {},
   "outputs": [],
   "source": []
  }
 ],
 "metadata": {
  "kernelspec": {
   "display_name": "Python 3 (ipykernel)",
   "language": "python",
   "name": "python3"
  },
  "language_info": {
   "codemirror_mode": {
    "name": "ipython",
    "version": 3
   },
   "file_extension": ".py",
   "mimetype": "text/x-python",
   "name": "python",
   "nbconvert_exporter": "python",
   "pygments_lexer": "ipython3",
   "version": "3.9.12"
  }
 },
 "nbformat": 4,
 "nbformat_minor": 5
}
