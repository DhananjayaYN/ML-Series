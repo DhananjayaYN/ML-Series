{
 "cells": [
  {
   "cell_type": "code",
   "execution_count": 1,
   "id": "2fa6fe74",
   "metadata": {},
   "outputs": [],
   "source": [
    "from sklearn.datasets import make_classification\n",
    "import pandas as pd"
   ]
  },
  {
   "cell_type": "code",
   "execution_count": 2,
   "id": "e6c89fdc",
   "metadata": {},
   "outputs": [
    {
     "data": {
      "text/html": [
       "<div>\n",
       "<style scoped>\n",
       "    .dataframe tbody tr th:only-of-type {\n",
       "        vertical-align: middle;\n",
       "    }\n",
       "\n",
       "    .dataframe tbody tr th {\n",
       "        vertical-align: top;\n",
       "    }\n",
       "\n",
       "    .dataframe thead th {\n",
       "        text-align: right;\n",
       "    }\n",
       "</style>\n",
       "<table border=\"1\" class=\"dataframe\">\n",
       "  <thead>\n",
       "    <tr style=\"text-align: right;\">\n",
       "      <th></th>\n",
       "      <th>0</th>\n",
       "      <th>1</th>\n",
       "      <th>2</th>\n",
       "      <th>3</th>\n",
       "      <th>4</th>\n",
       "    </tr>\n",
       "  </thead>\n",
       "  <tbody>\n",
       "    <tr>\n",
       "      <th>0</th>\n",
       "      <td>0.125087</td>\n",
       "      <td>0.234255</td>\n",
       "      <td>-1.103726</td>\n",
       "      <td>-0.167623</td>\n",
       "      <td>1.515111</td>\n",
       "    </tr>\n",
       "    <tr>\n",
       "      <th>1</th>\n",
       "      <td>0.815492</td>\n",
       "      <td>-0.589343</td>\n",
       "      <td>1.053393</td>\n",
       "      <td>2.009865</td>\n",
       "      <td>1.076791</td>\n",
       "    </tr>\n",
       "    <tr>\n",
       "      <th>2</th>\n",
       "      <td>1.433203</td>\n",
       "      <td>2.402587</td>\n",
       "      <td>-1.090373</td>\n",
       "      <td>-1.098987</td>\n",
       "      <td>-1.642265</td>\n",
       "    </tr>\n",
       "    <tr>\n",
       "      <th>3</th>\n",
       "      <td>1.219288</td>\n",
       "      <td>0.745729</td>\n",
       "      <td>-0.652820</td>\n",
       "      <td>0.781037</td>\n",
       "      <td>1.362674</td>\n",
       "    </tr>\n",
       "    <tr>\n",
       "      <th>4</th>\n",
       "      <td>0.662323</td>\n",
       "      <td>-0.767712</td>\n",
       "      <td>0.988913</td>\n",
       "      <td>2.017260</td>\n",
       "      <td>1.365957</td>\n",
       "    </tr>\n",
       "  </tbody>\n",
       "</table>\n",
       "</div>"
      ],
      "text/plain": [
       "          0         1         2         3         4\n",
       "0  0.125087  0.234255 -1.103726 -0.167623  1.515111\n",
       "1  0.815492 -0.589343  1.053393  2.009865  1.076791\n",
       "2  1.433203  2.402587 -1.090373 -1.098987 -1.642265\n",
       "3  1.219288  0.745729 -0.652820  0.781037  1.362674\n",
       "4  0.662323 -0.767712  0.988913  2.017260  1.365957"
      ]
     },
     "execution_count": 2,
     "metadata": {},
     "output_type": "execute_result"
    }
   ],
   "source": [
    "x,y = make_classification(n_samples = 100,n_features = 5, n_informative = 3)\n",
    "x = pd.DataFrame(x)\n",
    "x.head()"
   ]
  },
  {
   "cell_type": "code",
   "execution_count": 3,
   "id": "ff0227fb",
   "metadata": {},
   "outputs": [
    {
     "data": {
      "text/plain": [
       "(100, 5)"
      ]
     },
     "execution_count": 3,
     "metadata": {},
     "output_type": "execute_result"
    }
   ],
   "source": [
    "x.shape"
   ]
  },
  {
   "cell_type": "code",
   "execution_count": 4,
   "id": "b8fcbcb7",
   "metadata": {},
   "outputs": [],
   "source": [
    "from sklearn.feature_selection import mutual_info_classif\n",
    "from sklearn.feature_selection import SelectKBest"
   ]
  },
  {
   "cell_type": "code",
   "execution_count": 5,
   "id": "aa1acb16",
   "metadata": {},
   "outputs": [],
   "source": [
    "fs = SelectKBest(score_func = mutual_info_classif, k = 3)\n",
    "fs.fit(x,y)\n",
    "mi_score = pd.Series(fs.scores_, index = x.columns)"
   ]
  },
  {
   "cell_type": "code",
   "execution_count": 6,
   "id": "a1820764",
   "metadata": {},
   "outputs": [
    {
     "data": {
      "text/plain": [
       "0    0.101726\n",
       "1    0.309421\n",
       "2    0.228667\n",
       "3    0.273712\n",
       "4    0.104385\n",
       "dtype: float64"
      ]
     },
     "execution_count": 6,
     "metadata": {},
     "output_type": "execute_result"
    }
   ],
   "source": [
    "mi_score"
   ]
  },
  {
   "cell_type": "code",
   "execution_count": 7,
   "id": "840ad5b8",
   "metadata": {},
   "outputs": [
    {
     "data": {
      "text/plain": [
       "<AxesSubplot:>"
      ]
     },
     "execution_count": 7,
     "metadata": {},
     "output_type": "execute_result"
    },
    {
     "data": {
      "image/png": "[encoded data removed]",
      "text/plain": [
       "<Figure size 432x288 with 1 Axes>"
      ]
     },
     "metadata": {
      "needs_background": "light"
     },
     "output_type": "display_data"
    }
   ],
   "source": [
    "mi_score.sort_values(ascending = False).plot.bar(figsize = (6,4))"
   ]
  },
  {
   "cell_type": "code",
   "execution_count": 8,
   "id": "fe2f16fb",
   "metadata": {},
   "outputs": [],
   "source": [
    "selected_x = fs.fit_transform(x,y)\n",
    "selected_x = pd.DataFrame(selected_x)"
   ]
  },
  {
   "cell_type": "code",
   "execution_count": 9,
   "id": "84d92bb4",
   "metadata": {},
   "outputs": [
    {
     "data": {
      "text/plain": [
       "(100, 3)"
      ]
     },
     "execution_count": 9,
     "metadata": {},
     "output_type": "execute_result"
    }
   ],
   "source": [
    "selected_x.shape"
   ]
  },
  {
   "cell_type": "code",
   "execution_count": 10,
   "id": "0c858a43",
   "metadata": {},
   "outputs": [
    {
     "data": {
      "text/html": [
       "<div>\n",
       "<style scoped>\n",
       "    .dataframe tbody tr th:only-of-type {\n",
       "        vertical-align: middle;\n",
       "    }\n",
       "\n",
       "    .dataframe tbody tr th {\n",
       "        vertical-align: top;\n",
       "    }\n",
       "\n",
       "    .dataframe thead th {\n",
       "        text-align: right;\n",
       "    }\n",
       "</style>\n",
       "<table border=\"1\" class=\"dataframe\">\n",
       "  <thead>\n",
       "    <tr style=\"text-align: right;\">\n",
       "      <th></th>\n",
       "      <th>0</th>\n",
       "      <th>1</th>\n",
       "      <th>2</th>\n",
       "    </tr>\n",
       "  </thead>\n",
       "  <tbody>\n",
       "    <tr>\n",
       "      <th>0</th>\n",
       "      <td>0.234255</td>\n",
       "      <td>-1.103726</td>\n",
       "      <td>-0.167623</td>\n",
       "    </tr>\n",
       "    <tr>\n",
       "      <th>1</th>\n",
       "      <td>-0.589343</td>\n",
       "      <td>1.053393</td>\n",
       "      <td>2.009865</td>\n",
       "    </tr>\n",
       "    <tr>\n",
       "      <th>2</th>\n",
       "      <td>2.402587</td>\n",
       "      <td>-1.090373</td>\n",
       "      <td>-1.098987</td>\n",
       "    </tr>\n",
       "    <tr>\n",
       "      <th>3</th>\n",
       "      <td>0.745729</td>\n",
       "      <td>-0.652820</td>\n",
       "      <td>0.781037</td>\n",
       "    </tr>\n",
       "    <tr>\n",
       "      <th>4</th>\n",
       "      <td>-0.767712</td>\n",
       "      <td>0.988913</td>\n",
       "      <td>2.017260</td>\n",
       "    </tr>\n",
       "  </tbody>\n",
       "</table>\n",
       "</div>"
      ],
      "text/plain": [
       "          0         1         2\n",
       "0  0.234255 -1.103726 -0.167623\n",
       "1 -0.589343  1.053393  2.009865\n",
       "2  2.402587 -1.090373 -1.098987\n",
       "3  0.745729 -0.652820  0.781037\n",
       "4 -0.767712  0.988913  2.017260"
      ]
     },
     "execution_count": 10,
     "metadata": {},
     "output_type": "execute_result"
    }
   ],
   "source": [
    "selected_x.head()"
   ]
  },
  {
   "cell_type": "code",
   "execution_count": null,
   "id": "abc6e1e2",
   "metadata": {},
   "outputs": [],
   "source": []
  }
 ],
 "metadata": {
  "kernelspec": {
   "display_name": "Python 3 (ipykernel)",
   "language": "python",
   "name": "python3"
  },
  "language_info": {
   "codemirror_mode": {
    "name": "ipython",
    "version": 3
   },
   "file_extension": ".py",
   "mimetype": "text/x-python",
   "name": "python",
   "nbconvert_exporter": "python",
   "pygments_lexer": "ipython3",
   "version": "3.9.12"
  }
 },
 "nbformat": 4,
 "nbformat_minor": 5
}
