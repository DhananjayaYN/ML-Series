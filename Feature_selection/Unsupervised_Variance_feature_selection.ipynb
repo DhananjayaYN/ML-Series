{
 "cells": [
  {
   "cell_type": "code",
   "execution_count": 2,
   "id": "364f1226",
   "metadata": {},
   "outputs": [
    {
     "data": {
      "text/html": [
       "<div>\n",
       "<style scoped>\n",
       "    .dataframe tbody tr th:only-of-type {\n",
       "        vertical-align: middle;\n",
       "    }\n",
       "\n",
       "    .dataframe tbody tr th {\n",
       "        vertical-align: top;\n",
       "    }\n",
       "\n",
       "    .dataframe thead th {\n",
       "        text-align: right;\n",
       "    }\n",
       "</style>\n",
       "<table border=\"1\" class=\"dataframe\">\n",
       "  <thead>\n",
       "    <tr style=\"text-align: right;\">\n",
       "      <th></th>\n",
       "      <th>Name</th>\n",
       "      <th>Math</th>\n",
       "      <th>Chemistry</th>\n",
       "      <th>Maths</th>\n",
       "      <th>Physics</th>\n",
       "      <th>English</th>\n",
       "      <th>General Test</th>\n",
       "    </tr>\n",
       "  </thead>\n",
       "  <tbody>\n",
       "    <tr>\n",
       "      <th>0</th>\n",
       "      <td>A</td>\n",
       "      <td>70</td>\n",
       "      <td>60</td>\n",
       "      <td>70</td>\n",
       "      <td>50</td>\n",
       "      <td>75</td>\n",
       "      <td>80</td>\n",
       "    </tr>\n",
       "    <tr>\n",
       "      <th>1</th>\n",
       "      <td>B</td>\n",
       "      <td>60</td>\n",
       "      <td>80</td>\n",
       "      <td>60</td>\n",
       "      <td>45</td>\n",
       "      <td>25</td>\n",
       "      <td>80</td>\n",
       "    </tr>\n",
       "    <tr>\n",
       "      <th>2</th>\n",
       "      <td>C</td>\n",
       "      <td>40</td>\n",
       "      <td>65</td>\n",
       "      <td>40</td>\n",
       "      <td>60</td>\n",
       "      <td>40</td>\n",
       "      <td>80</td>\n",
       "    </tr>\n",
       "    <tr>\n",
       "      <th>3</th>\n",
       "      <td>D</td>\n",
       "      <td>80</td>\n",
       "      <td>55</td>\n",
       "      <td>80</td>\n",
       "      <td>60</td>\n",
       "      <td>67</td>\n",
       "      <td>80</td>\n",
       "    </tr>\n",
       "    <tr>\n",
       "      <th>4</th>\n",
       "      <td>E</td>\n",
       "      <td>30</td>\n",
       "      <td>40</td>\n",
       "      <td>30</td>\n",
       "      <td>39</td>\n",
       "      <td>88</td>\n",
       "      <td>80</td>\n",
       "    </tr>\n",
       "  </tbody>\n",
       "</table>\n",
       "</div>"
      ],
      "text/plain": [
       "  Name  Math  Chemistry  Maths  Physics  English  General Test\n",
       "0    A    70         60     70       50       75            80\n",
       "1    B    60         80     60       45       25            80\n",
       "2    C    40         65     40       60       40            80\n",
       "3    D    80         55     80       60       67            80\n",
       "4    E    30         40     30       39       88            80"
      ]
     },
     "execution_count": 2,
     "metadata": {},
     "output_type": "execute_result"
    }
   ],
   "source": [
    "import pandas as pd\n",
    "data = pd.read_csv(\"Book1.csv\")\n",
    "data.head()"
   ]
  },
  {
   "cell_type": "code",
   "execution_count": 3,
   "id": "4cddc187",
   "metadata": {},
   "outputs": [
    {
     "data": {
      "text/plain": [
       "(11, 7)"
      ]
     },
     "execution_count": 3,
     "metadata": {},
     "output_type": "execute_result"
    }
   ],
   "source": [
    "data.shape"
   ]
  },
  {
   "cell_type": "code",
   "execution_count": 4,
   "id": "1edc7fc6",
   "metadata": {},
   "outputs": [
    {
     "name": "stdout",
     "output_type": "stream",
     "text": [
      "<class 'pandas.core.frame.DataFrame'>\n",
      "RangeIndex: 11 entries, 0 to 10\n",
      "Data columns (total 7 columns):\n",
      " #   Column        Non-Null Count  Dtype \n",
      "---  ------        --------------  ----- \n",
      " 0   Name          11 non-null     object\n",
      " 1   Math          11 non-null     int64 \n",
      " 2   Chemistry     11 non-null     int64 \n",
      " 3   Maths         11 non-null     int64 \n",
      " 4   Physics       11 non-null     int64 \n",
      " 5   English       11 non-null     int64 \n",
      " 6   General Test  11 non-null     int64 \n",
      "dtypes: int64(6), object(1)\n",
      "memory usage: 744.0+ bytes\n"
     ]
    }
   ],
   "source": [
    "data.info()"
   ]
  },
  {
   "cell_type": "code",
   "execution_count": 9,
   "id": "2a17101f",
   "metadata": {},
   "outputs": [],
   "source": [
    "features = data.drop(\"Name\",axis = 1)"
   ]
  },
  {
   "cell_type": "code",
   "execution_count": 10,
   "id": "d6ac0bc8",
   "metadata": {},
   "outputs": [
    {
     "data": {
      "text/html": [
       "<div>\n",
       "<style scoped>\n",
       "    .dataframe tbody tr th:only-of-type {\n",
       "        vertical-align: middle;\n",
       "    }\n",
       "\n",
       "    .dataframe tbody tr th {\n",
       "        vertical-align: top;\n",
       "    }\n",
       "\n",
       "    .dataframe thead th {\n",
       "        text-align: right;\n",
       "    }\n",
       "</style>\n",
       "<table border=\"1\" class=\"dataframe\">\n",
       "  <thead>\n",
       "    <tr style=\"text-align: right;\">\n",
       "      <th></th>\n",
       "      <th>Math</th>\n",
       "      <th>Chemistry</th>\n",
       "      <th>Maths</th>\n",
       "      <th>Physics</th>\n",
       "      <th>English</th>\n",
       "      <th>General Test</th>\n",
       "    </tr>\n",
       "  </thead>\n",
       "  <tbody>\n",
       "    <tr>\n",
       "      <th>0</th>\n",
       "      <td>70</td>\n",
       "      <td>60</td>\n",
       "      <td>70</td>\n",
       "      <td>50</td>\n",
       "      <td>75</td>\n",
       "      <td>80</td>\n",
       "    </tr>\n",
       "    <tr>\n",
       "      <th>1</th>\n",
       "      <td>60</td>\n",
       "      <td>80</td>\n",
       "      <td>60</td>\n",
       "      <td>45</td>\n",
       "      <td>25</td>\n",
       "      <td>80</td>\n",
       "    </tr>\n",
       "    <tr>\n",
       "      <th>2</th>\n",
       "      <td>40</td>\n",
       "      <td>65</td>\n",
       "      <td>40</td>\n",
       "      <td>60</td>\n",
       "      <td>40</td>\n",
       "      <td>80</td>\n",
       "    </tr>\n",
       "    <tr>\n",
       "      <th>3</th>\n",
       "      <td>80</td>\n",
       "      <td>55</td>\n",
       "      <td>80</td>\n",
       "      <td>60</td>\n",
       "      <td>67</td>\n",
       "      <td>80</td>\n",
       "    </tr>\n",
       "    <tr>\n",
       "      <th>4</th>\n",
       "      <td>30</td>\n",
       "      <td>40</td>\n",
       "      <td>30</td>\n",
       "      <td>39</td>\n",
       "      <td>88</td>\n",
       "      <td>80</td>\n",
       "    </tr>\n",
       "  </tbody>\n",
       "</table>\n",
       "</div>"
      ],
      "text/plain": [
       "   Math  Chemistry  Maths  Physics  English  General Test\n",
       "0    70         60     70       50       75            80\n",
       "1    60         80     60       45       25            80\n",
       "2    40         65     40       60       40            80\n",
       "3    80         55     80       60       67            80\n",
       "4    30         40     30       39       88            80"
      ]
     },
     "execution_count": 10,
     "metadata": {},
     "output_type": "execute_result"
    }
   ],
   "source": [
    "features.head()"
   ]
  },
  {
   "cell_type": "code",
   "execution_count": 11,
   "id": "bd5fd95d",
   "metadata": {},
   "outputs": [],
   "source": [
    "from sklearn.feature_selection import VarianceThreshold\n",
    "selector = VarianceThreshold(threshold = 0)\n",
    "selected_features = selector.fit_transform(features)"
   ]
  },
  {
   "cell_type": "code",
   "execution_count": 12,
   "id": "284cf9d5",
   "metadata": {},
   "outputs": [
    {
     "data": {
      "text/plain": [
       "array([[70, 60, 70, 50, 75],\n",
       "       [60, 80, 60, 45, 25],\n",
       "       [40, 65, 40, 60, 40],\n",
       "       [80, 55, 80, 60, 67],\n",
       "       [30, 40, 30, 39, 88],\n",
       "       [50, 60, 50, 50, 23],\n",
       "       [50, 60, 50, 68, 40],\n",
       "       [78, 85, 78, 50, 70],\n",
       "       [26, 40, 26, 50, 70],\n",
       "       [59, 70, 59, 60, 55],\n",
       "       [89, 73, 89, 70, 79]], dtype=int64)"
      ]
     },
     "execution_count": 12,
     "metadata": {},
     "output_type": "execute_result"
    }
   ],
   "source": [
    "selected_features"
   ]
  },
  {
   "cell_type": "code",
   "execution_count": 14,
   "id": "0758de99",
   "metadata": {},
   "outputs": [],
   "source": [
    "data = pd.DataFrame(selected_features,columns = selector.get_feature_names_out())"
   ]
  },
  {
   "cell_type": "code",
   "execution_count": 15,
   "id": "efa232ee",
   "metadata": {},
   "outputs": [
    {
     "data": {
      "text/html": [
       "<div>\n",
       "<style scoped>\n",
       "    .dataframe tbody tr th:only-of-type {\n",
       "        vertical-align: middle;\n",
       "    }\n",
       "\n",
       "    .dataframe tbody tr th {\n",
       "        vertical-align: top;\n",
       "    }\n",
       "\n",
       "    .dataframe thead th {\n",
       "        text-align: right;\n",
       "    }\n",
       "</style>\n",
       "<table border=\"1\" class=\"dataframe\">\n",
       "  <thead>\n",
       "    <tr style=\"text-align: right;\">\n",
       "      <th></th>\n",
       "      <th>Math</th>\n",
       "      <th>Chemistry</th>\n",
       "      <th>Maths</th>\n",
       "      <th>Physics</th>\n",
       "      <th>English</th>\n",
       "    </tr>\n",
       "  </thead>\n",
       "  <tbody>\n",
       "    <tr>\n",
       "      <th>0</th>\n",
       "      <td>70</td>\n",
       "      <td>60</td>\n",
       "      <td>70</td>\n",
       "      <td>50</td>\n",
       "      <td>75</td>\n",
       "    </tr>\n",
       "    <tr>\n",
       "      <th>1</th>\n",
       "      <td>60</td>\n",
       "      <td>80</td>\n",
       "      <td>60</td>\n",
       "      <td>45</td>\n",
       "      <td>25</td>\n",
       "    </tr>\n",
       "    <tr>\n",
       "      <th>2</th>\n",
       "      <td>40</td>\n",
       "      <td>65</td>\n",
       "      <td>40</td>\n",
       "      <td>60</td>\n",
       "      <td>40</td>\n",
       "    </tr>\n",
       "    <tr>\n",
       "      <th>3</th>\n",
       "      <td>80</td>\n",
       "      <td>55</td>\n",
       "      <td>80</td>\n",
       "      <td>60</td>\n",
       "      <td>67</td>\n",
       "    </tr>\n",
       "    <tr>\n",
       "      <th>4</th>\n",
       "      <td>30</td>\n",
       "      <td>40</td>\n",
       "      <td>30</td>\n",
       "      <td>39</td>\n",
       "      <td>88</td>\n",
       "    </tr>\n",
       "  </tbody>\n",
       "</table>\n",
       "</div>"
      ],
      "text/plain": [
       "   Math  Chemistry  Maths  Physics  English\n",
       "0    70         60     70       50       75\n",
       "1    60         80     60       45       25\n",
       "2    40         65     40       60       40\n",
       "3    80         55     80       60       67\n",
       "4    30         40     30       39       88"
      ]
     },
     "execution_count": 15,
     "metadata": {},
     "output_type": "execute_result"
    }
   ],
   "source": [
    "data.head()"
   ]
  },
  {
   "cell_type": "code",
   "execution_count": null,
   "id": "5dbc9fc6",
   "metadata": {},
   "outputs": [],
   "source": []
  }
 ],
 "metadata": {
  "kernelspec": {
   "display_name": "Python 3 (ipykernel)",
   "language": "python",
   "name": "python3"
  },
  "language_info": {
   "codemirror_mode": {
    "name": "ipython",
    "version": 3
   },
   "file_extension": ".py",
   "mimetype": "text/x-python",
   "name": "python",
   "nbconvert_exporter": "python",
   "pygments_lexer": "ipython3",
   "version": "3.9.12"
  }
 },
 "nbformat": 4,
 "nbformat_minor": 5
}
