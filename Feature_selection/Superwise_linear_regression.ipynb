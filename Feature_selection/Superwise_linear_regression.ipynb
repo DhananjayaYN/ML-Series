{
 "cells": [
  {
   "cell_type": "code",
   "execution_count": 1,
   "id": "fffecd06",
   "metadata": {},
   "outputs": [],
   "source": [
    "from sklearn.datasets import make_regression\n",
    "x,y = make_regression(n_samples = 50, n_features = 5)"
   ]
  },
  {
   "cell_type": "code",
   "execution_count": 2,
   "id": "ddb54aec",
   "metadata": {},
   "outputs": [
    {
     "data": {
      "text/plain": [
       "(50, 5)"
      ]
     },
     "execution_count": 2,
     "metadata": {},
     "output_type": "execute_result"
    }
   ],
   "source": [
    "x.shape"
   ]
  },
  {
   "cell_type": "code",
   "execution_count": 14,
   "id": "8a7e4038",
   "metadata": {},
   "outputs": [
    {
     "data": {
      "text/html": [
       "<div>\n",
       "<style scoped>\n",
       "    .dataframe tbody tr th:only-of-type {\n",
       "        vertical-align: middle;\n",
       "    }\n",
       "\n",
       "    .dataframe tbody tr th {\n",
       "        vertical-align: top;\n",
       "    }\n",
       "\n",
       "    .dataframe thead th {\n",
       "        text-align: right;\n",
       "    }\n",
       "</style>\n",
       "<table border=\"1\" class=\"dataframe\">\n",
       "  <thead>\n",
       "    <tr style=\"text-align: right;\">\n",
       "      <th></th>\n",
       "      <th>0</th>\n",
       "      <th>1</th>\n",
       "      <th>2</th>\n",
       "      <th>3</th>\n",
       "      <th>4</th>\n",
       "    </tr>\n",
       "  </thead>\n",
       "  <tbody>\n",
       "    <tr>\n",
       "      <th>0</th>\n",
       "      <td>-0.224250</td>\n",
       "      <td>1.031682</td>\n",
       "      <td>-2.077845</td>\n",
       "      <td>1.060020</td>\n",
       "      <td>0.581503</td>\n",
       "    </tr>\n",
       "    <tr>\n",
       "      <th>1</th>\n",
       "      <td>0.360012</td>\n",
       "      <td>-0.036617</td>\n",
       "      <td>1.583428</td>\n",
       "      <td>0.465533</td>\n",
       "      <td>1.356527</td>\n",
       "    </tr>\n",
       "    <tr>\n",
       "      <th>2</th>\n",
       "      <td>-0.547071</td>\n",
       "      <td>-0.496103</td>\n",
       "      <td>0.777387</td>\n",
       "      <td>-0.099975</td>\n",
       "      <td>0.643556</td>\n",
       "    </tr>\n",
       "    <tr>\n",
       "      <th>3</th>\n",
       "      <td>-0.802371</td>\n",
       "      <td>0.428501</td>\n",
       "      <td>0.525019</td>\n",
       "      <td>1.776042</td>\n",
       "      <td>-1.537382</td>\n",
       "    </tr>\n",
       "    <tr>\n",
       "      <th>4</th>\n",
       "      <td>-0.736149</td>\n",
       "      <td>-1.354072</td>\n",
       "      <td>-1.535947</td>\n",
       "      <td>1.701791</td>\n",
       "      <td>0.876118</td>\n",
       "    </tr>\n",
       "  </tbody>\n",
       "</table>\n",
       "</div>"
      ],
      "text/plain": [
       "          0         1         2         3         4\n",
       "0 -0.224250  1.031682 -2.077845  1.060020  0.581503\n",
       "1  0.360012 -0.036617  1.583428  0.465533  1.356527\n",
       "2 -0.547071 -0.496103  0.777387 -0.099975  0.643556\n",
       "3 -0.802371  0.428501  0.525019  1.776042 -1.537382\n",
       "4 -0.736149 -1.354072 -1.535947  1.701791  0.876118"
      ]
     },
     "execution_count": 14,
     "metadata": {},
     "output_type": "execute_result"
    }
   ],
   "source": [
    "import pandas as pd \n",
    "x = pd.DataFrame(x)\n",
    "x.head()"
   ]
  },
  {
   "cell_type": "code",
   "execution_count": 9,
   "id": "cf600dfd",
   "metadata": {},
   "outputs": [
    {
     "data": {
      "text/plain": [
       "(50,)"
      ]
     },
     "execution_count": 9,
     "metadata": {},
     "output_type": "execute_result"
    }
   ],
   "source": [
    "y.shape"
   ]
  },
  {
   "cell_type": "code",
   "execution_count": 10,
   "id": "56ea689e",
   "metadata": {},
   "outputs": [
    {
     "data": {
      "text/plain": [
       "array([0.17074606, 0.5435307 , 0.        , 0.        , 0.067217  ])"
      ]
     },
     "execution_count": 10,
     "metadata": {},
     "output_type": "execute_result"
    }
   ],
   "source": [
    "from sklearn.feature_selection import mutual_info_regression\n",
    "from sklearn.feature_selection import SelectKBest\n",
    "fs = SelectKBest (score_func = mutual_info_regression, k = 3)\n",
    "fs.fit(x,y)\n",
    "fs.scores_"
   ]
  },
  {
   "cell_type": "code",
   "execution_count": 13,
   "id": "16884e58",
   "metadata": {},
   "outputs": [],
   "source": [
    "mi_score = pd.Series(fs.scores_, index = x.columns)"
   ]
  },
  {
   "cell_type": "code",
   "execution_count": 16,
   "id": "b1425b3e",
   "metadata": {},
   "outputs": [
    {
     "data": {
      "text/plain": [
       "<AxesSubplot:>"
      ]
     },
     "execution_count": 16,
     "metadata": {},
     "output_type": "execute_result"
    },
    {
     "data": {
      "image/png": "[encoded data removed]",
      "text/plain": [
       "<Figure size 432x288 with 1 Axes>"
      ]
     },
     "metadata": {
      "needs_background": "light"
     },
     "output_type": "display_data"
    }
   ],
   "source": [
    "mi_score.sort_values(ascending = False).plot.bar(figsize = (6,4))"
   ]
  },
  {
   "cell_type": "code",
   "execution_count": 18,
   "id": "a57585f4",
   "metadata": {},
   "outputs": [],
   "source": [
    "x_selected = fs.fit_transform(x,y)\n",
    "x_selected = pd.DataFrame(x_selected)"
   ]
  },
  {
   "cell_type": "code",
   "execution_count": 19,
   "id": "457736f5",
   "metadata": {},
   "outputs": [
    {
     "data": {
      "text/html": [
       "<div>\n",
       "<style scoped>\n",
       "    .dataframe tbody tr th:only-of-type {\n",
       "        vertical-align: middle;\n",
       "    }\n",
       "\n",
       "    .dataframe tbody tr th {\n",
       "        vertical-align: top;\n",
       "    }\n",
       "\n",
       "    .dataframe thead th {\n",
       "        text-align: right;\n",
       "    }\n",
       "</style>\n",
       "<table border=\"1\" class=\"dataframe\">\n",
       "  <thead>\n",
       "    <tr style=\"text-align: right;\">\n",
       "      <th></th>\n",
       "      <th>0</th>\n",
       "      <th>1</th>\n",
       "      <th>2</th>\n",
       "    </tr>\n",
       "  </thead>\n",
       "  <tbody>\n",
       "    <tr>\n",
       "      <th>0</th>\n",
       "      <td>-0.224250</td>\n",
       "      <td>1.031682</td>\n",
       "      <td>0.581503</td>\n",
       "    </tr>\n",
       "    <tr>\n",
       "      <th>1</th>\n",
       "      <td>0.360012</td>\n",
       "      <td>-0.036617</td>\n",
       "      <td>1.356527</td>\n",
       "    </tr>\n",
       "    <tr>\n",
       "      <th>2</th>\n",
       "      <td>-0.547071</td>\n",
       "      <td>-0.496103</td>\n",
       "      <td>0.643556</td>\n",
       "    </tr>\n",
       "    <tr>\n",
       "      <th>3</th>\n",
       "      <td>-0.802371</td>\n",
       "      <td>0.428501</td>\n",
       "      <td>-1.537382</td>\n",
       "    </tr>\n",
       "    <tr>\n",
       "      <th>4</th>\n",
       "      <td>-0.736149</td>\n",
       "      <td>-1.354072</td>\n",
       "      <td>0.876118</td>\n",
       "    </tr>\n",
       "  </tbody>\n",
       "</table>\n",
       "</div>"
      ],
      "text/plain": [
       "          0         1         2\n",
       "0 -0.224250  1.031682  0.581503\n",
       "1  0.360012 -0.036617  1.356527\n",
       "2 -0.547071 -0.496103  0.643556\n",
       "3 -0.802371  0.428501 -1.537382\n",
       "4 -0.736149 -1.354072  0.876118"
      ]
     },
     "execution_count": 19,
     "metadata": {},
     "output_type": "execute_result"
    }
   ],
   "source": [
    "x_selected.head()"
   ]
  },
  {
   "cell_type": "code",
   "execution_count": null,
   "id": "2ba481aa",
   "metadata": {},
   "outputs": [],
   "source": []
  }
 ],
 "metadata": {
  "kernelspec": {
   "display_name": "Python 3 (ipykernel)",
   "language": "python",
   "name": "python3"
  },
  "language_info": {
   "codemirror_mode": {
    "name": "ipython",
    "version": 3
   },
   "file_extension": ".py",
   "mimetype": "text/x-python",
   "name": "python",
   "nbconvert_exporter": "python",
   "pygments_lexer": "ipython3",
   "version": "3.9.12"
  }
 },
 "nbformat": 4,
 "nbformat_minor": 5
}
